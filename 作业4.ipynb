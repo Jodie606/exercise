{
 "cells": [
  {
   "cell_type": "code",
   "execution_count": null,
   "id": "e67a0077",
   "metadata": {},
   "outputs": [],
   "source": [
    "import pandas as pd\n",
    "\n",
    "df = pd.read_csv('pokemon_data.csv')\n",
    "df=pd.DataFrame(df)\n",
    "df"
   ]
  },
  {
   "cell_type": "code",
   "execution_count": null,
   "id": "567f03e7",
   "metadata": {},
   "outputs": [],
   "source": [
    "import numpy as np\n",
    "di=df.index[np.where(pd.isnull(df))[0]]\n",
    "df.iloc[di]"
   ]
  },
  {
   "cell_type": "code",
   "execution_count": null,
   "id": "ca0e1244",
   "metadata": {},
   "outputs": [],
   "source": [
    "a=df.loc[df['Legendary']==True]\n",
    "a"
   ]
  },
  {
   "cell_type": "code",
   "execution_count": null,
   "id": "ab017e41",
   "metadata": {},
   "outputs": [],
   "source": [
    "leg_df=df.loc[df.loc[:,'Legendary']==True]\n",
    "print( leg_df)"
   ]
  },
  {
   "cell_type": "code",
   "execution_count": null,
   "id": "6b2f48c1",
   "metadata": {},
   "outputs": [],
   "source": [
    "dff=df.loc[(df['Defense']>50) & (df['Speed']>75) & (df['Generation']>3.0)&(df['Defense']+df['Speed']+df['Sp. Atk']+df['Sp. Def']+df['Attack']+df['HP'])]\n",
    "dff"
   ]
  },
  {
   "cell_type": "code",
   "execution_count": null,
   "id": "2f3dab6a",
   "metadata": {},
   "outputs": [],
   "source": []
  }
 ],
 "metadata": {
  "kernelspec": {
   "display_name": "Python 3 (ipykernel)",
   "language": "python",
   "name": "python3"
  },
  "language_info": {
   "codemirror_mode": {
    "name": "ipython",
    "version": 3
   },
   "file_extension": ".py",
   "mimetype": "text/x-python",
   "name": "python",
   "nbconvert_exporter": "python",
   "pygments_lexer": "ipython3",
   "version": "3.9.12"
  }
 },
 "nbformat": 4,
 "nbformat_minor": 5
}
