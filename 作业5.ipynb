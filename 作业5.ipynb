{
 "cells": [
  {
   "cell_type": "code",
   "execution_count": null,
   "id": "8a56a27d",
   "metadata": {},
   "outputs": [],
   "source": [
    "nterms = int(input(\"where do you want to start？\"))\n",
    "n1 = 0\n",
    "n2 = 1\n",
    "count = 2\n",
    "if nterms <= 0:\n",
    "    print(\"pls input a integer\")\n",
    "elif nterms == 1:\n",
    "    print(n1)\n",
    "else:\n",
    "    print(n1, \",\", n2, end=\" , \")"
   ]
  },
  {
   "cell_type": "code",
   "execution_count": null,
   "id": "787eb7b7",
   "metadata": {},
   "outputs": [],
   "source": [
    " while count < nterms:\n",
    "        nth = n1 + n2\n",
    "        print(nth, end=\" , \")\n",
    "        n1 = n2\n",
    "        n2 = nth\n",
    "        count += 1"
   ]
  },
  {
   "cell_type": "code",
   "execution_count": null,
   "id": "66255c6e",
   "metadata": {},
   "outputs": [],
   "source": [
    "import random\n",
    "import string\n",
    "def random_user_id():\n",
    "    return ''.join(random.sample(string.ascii_letters + string.digits, 6))\n",
    "print(random_user_id())"
   ]
  },
  {
   "cell_type": "code",
   "execution_count": null,
   "id": "d62a6d91",
   "metadata": {},
   "outputs": [],
   "source": [
    "a=int(input(\"pls enter how many ID u want\"))\n",
    "b=int(input(\"pls enter how many letters u want in a single ID\"))\n",
    "def user_id_gen_by_user():\n",
    "    c=[random.sample(string.ascii_letters + string.digits, b) for i in range(a)]\n",
    "    for l in c:\n",
    "        print(''.join(l))\n",
    "user_id_gen_by_user()"
   ]
  },
  {
   "cell_type": "code",
   "execution_count": null,
   "id": "d3fb6743",
   "metadata": {},
   "outputs": [],
   "source": [
    "def rgb_color_gen():\n",
    "    return [random.randint(0,255),random.randint(0,255),random.randint(0,255)]\n",
    "print(rgb_color_gen())"
   ]
  },
  {
   "cell_type": "code",
   "execution_count": null,
   "id": "0a83c5f5",
   "metadata": {},
   "outputs": [],
   "source": [
    "def list_of_hexa_colors():\n",
    "    letter=[\"1\",\"2\",\"3\",\"4\",\"5\",\"6\",\"7\",\"8\",\"9\",\"0\",\"a\",'b','c','d','e','f']\n",
    "    hex=\"#\"+\"\".join(random.sample(letter,6))\n",
    "    return hex\n",
    "print(list_of_hexa_colors())"
   ]
  },
  {
   "cell_type": "code",
   "execution_count": null,
   "id": "2ea5af93",
   "metadata": {},
   "outputs": [],
   "source": [
    "def list_of_rgb_colors():\n",
    "    return(random.randint(0,255),random.randint(0,255),random.randint(0,255))\n",
    "print(list_of_rgb_colors())"
   ]
  },
  {
   "cell_type": "code",
   "execution_count": null,
   "id": "98a6531c",
   "metadata": {},
   "outputs": [],
   "source": [
    "def generate_colors(input,times):\n",
    "    list=[]\n",
    "    if input == 'hexa':\n",
    "        while times != 0:\n",
    "            list.append(list_of_hexa_colors())\n",
    "            times-=1\n",
    "        return list\n",
    "    elif input =='rgb':\n",
    "        while times != 0:\n",
    "            list.append(list_of_rgb_colors())\n",
    "            times -= 1\n",
    "        return list\n",
    "    else:\n",
    "        print(\"error\")\n",
    "print(generate_colors('hexa',3))\n",
    "print(generate_colors('hexa',1))\n",
    "print(generate_colors('rgb',1))\n",
    "print(generate_colors('rgb',3))\n",
    "\n",
    "\n",
    "def shuffle_list(seq) :\n",
    "    return random.shuffle(seq)\n",
    "\n",
    "def func():\n",
    "    num = [\"1\", \"2\", \"3\", \"4\", \"5\", \"6\", \"7\", \"8\", \"9\", \"0\"]\n",
    "    return random.sample(num,6)\n",
    "print(func())"
   ]
  },
  {
   "cell_type": "code",
   "execution_count": null,
   "id": "e9e98b32",
   "metadata": {},
   "outputs": [],
   "source": []
  },
  {
   "cell_type": "code",
   "execution_count": null,
   "id": "3a417cf3",
   "metadata": {},
   "outputs": [],
   "source": []
  },
  {
   "cell_type": "code",
   "execution_count": null,
   "id": "f366aeed",
   "metadata": {},
   "outputs": [],
   "source": []
  },
  {
   "cell_type": "code",
   "execution_count": null,
   "id": "55a507e5",
   "metadata": {},
   "outputs": [],
   "source": []
  }
 ],
 "metadata": {
  "kernelspec": {
   "display_name": "Python 3 (ipykernel)",
   "language": "python",
   "name": "python3"
  },
  "language_info": {
   "codemirror_mode": {
    "name": "ipython",
    "version": 3
   },
   "file_extension": ".py",
   "mimetype": "text/x-python",
   "name": "python",
   "nbconvert_exporter": "python",
   "pygments_lexer": "ipython3",
   "version": "3.9.12"
  }
 },
 "nbformat": 4,
 "nbformat_minor": 5
}
