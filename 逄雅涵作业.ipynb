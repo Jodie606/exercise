{
 "cells": [
  {
   "cell_type": "code",
   "execution_count": 4,
   "id": "1cc64070",
   "metadata": {},
   "outputs": [
    {
     "name": "stdout",
     "output_type": "stream",
     "text": [
      "输入三角形底数: 20\n",
      "输入三角形高: 10\n",
      "三角形面积为 100.000000\n"
     ]
    }
   ],
   "source": [
    "b = int(input('输入三角形底数: '));\n",
    "\n",
    "h = float(input('输入三角形高: '));\n",
    "\n",
    "area = b*h*0.5;\n",
    "\n",
    "print('三角形面积为 %f' %area);"
   ]
  },
  {
   "cell_type": "code",
   "execution_count": 5,
   "id": "0eb236cf",
   "metadata": {},
   "outputs": [
    {
     "name": "stdout",
     "output_type": "stream",
     "text": [
      "输入三角形第一边长: 5\n",
      "输入三角形第二边长: 4\n",
      "输入三角形第三边长: 3\n",
      "三角形周长为 12.00\n"
     ]
    }
   ],
   "source": [
    "a = float(input('输入三角形第一边长: '));\n",
    "\n",
    "b = float(input('输入三角形第二边长: '));\n",
    "\n",
    "c = float(input('输入三角形第三边长: '));\n",
    "\n",
    "s = (a + b + c) ;\n",
    "print('三角形周长为 %0.2f' %s);"
   ]
  },
  {
   "cell_type": "code",
   "execution_count": 8,
   "id": "6ae91ba6",
   "metadata": {},
   "outputs": [
    {
     "name": "stdout",
     "output_type": "stream",
     "text": [
      "输入矩形长：3\n",
      "输入矩形宽：4\n",
      "矩形周长为 14.000000\n",
      "矩形面积为 12.000000\n"
     ]
    }
   ],
   "source": [
    "a=float(input(\"输入矩形长：\"))\n",
    "b=float(input(\"输入矩形宽：\"))\n",
    "s=(a+b)*2\n",
    "area=a*b;\n",
    "print(\"矩形周长为 %f\" %s);\n",
    "print(\"矩形面积为 %f\" %area);\n"
   ]
  },
  {
   "cell_type": "code",
   "execution_count": 9,
   "id": "3511dbde",
   "metadata": {},
   "outputs": [
    {
     "name": "stdout",
     "output_type": "stream",
     "text": [
      "输入圆半径5\n",
      "圆面积为 78.500000\n",
      "圆周长为 31.400000\n"
     ]
    }
   ],
   "source": [
    "r=float(input(\"输入圆半径\"))\n",
    "pi=3.14\n",
    "area=pi*r*r\n",
    "c=2*pi*r\n",
    "print(\"圆面积为 %f\" %area)\n",
    "print(\"圆周长为 %f\" %c)"
   ]
  },
  {
   "cell_type": "code",
   "execution_count": 28,
   "id": "612ddfb7",
   "metadata": {},
   "outputs": [
    {
     "name": "stdout",
     "output_type": "stream",
     "text": [
      "2\n",
      "1\n",
      "-2\n"
     ]
    }
   ],
   "source": [
    "def slope(x):\n",
    "    return 2;\n",
    "\n",
    "def xintercept(x):\n",
    "    return 1;\n",
    "def yintercept(x):\n",
    "    return -2;\n",
    "print (slope(1));\n",
    "print(xintercept(1));\n",
    "print(yintercept(1));\n",
    "\n"
   ]
  },
  {
   "cell_type": "code",
   "execution_count": 10,
   "id": "ef16a326",
   "metadata": {},
   "outputs": [
    {
     "name": "stdout",
     "output_type": "stream",
     "text": [
      "2.0\n",
      "8.94427190999916\n"
     ]
    }
   ],
   "source": [
    "import math;\n",
    "p1=[2,2];\n",
    "p2=[6,10];\n",
    "slope=abs((p1[1]-p2[1])/(p1[0]-p2[0]));\n",
    "distance= math.sqrt((p1[1]-p2[1])*(p1[1]-p2[1])+(p1[0]-p2[0])*(p1[0]-p2[0]));\n",
    "print(slope);\n",
    "print (distance);\n",
    "\n",
    "\n"
   ]
  },
  {
   "cell_type": "code",
   "execution_count": 20,
   "id": "b0016a76",
   "metadata": {},
   "outputs": [
    {
     "name": "stdout",
     "output_type": "stream",
     "text": [
      "2.0\n"
     ]
    }
   ],
   "source": [
    "\n",
    "def getSlope(x1,y1,x2,y2):\n",
    "    return (y2-y1)/(x2-x1);\n",
    "\n",
    "\n",
    "def getXIntercept():\n",
    "    return 1;\n",
    "\n",
    "def getYIntercept():\n",
    "    return -2;\n",
    "\n",
    "print(getSlope(2,2,6,10));"
   ]
  },
  {
   "cell_type": "code",
   "execution_count": null,
   "id": "28ae6d6c",
   "metadata": {},
   "outputs": [],
   "source": []
  },
  {
   "cell_type": "code",
   "execution_count": 21,
   "id": "e6139afb",
   "metadata": {},
   "outputs": [
    {
     "name": "stdout",
     "output_type": "stream",
     "text": [
      "6\n",
      "11\n"
     ]
    }
   ],
   "source": [
    "print(len(\"python\"));\n",
    "\n",
    "print(len(\"datascience\"))"
   ]
  },
  {
   "cell_type": "code",
   "execution_count": 30,
   "id": "80a6eb6f",
   "metadata": {},
   "outputs": [
    {
     "name": "stdout",
     "output_type": "stream",
     "text": [
      "True\n",
      "True\n"
     ]
    }
   ],
   "source": [
    "x=\"python\"\n",
    "y=\"cannon\"\n",
    "print(\"on\" in x)\n",
    "print(\"on\" in y)"
   ]
  },
  {
   "cell_type": "code",
   "execution_count": 32,
   "id": "7f819ddd",
   "metadata": {},
   "outputs": [
    {
     "name": "stdout",
     "output_type": "stream",
     "text": [
      "True\n"
     ]
    }
   ],
   "source": [
    "x=\"I hope this course is not full of jargon\"\n",
    "print(\"jargon\" in x)"
   ]
  },
  {
   "cell_type": "code",
   "execution_count": 34,
   "id": "c994f6d3",
   "metadata": {},
   "outputs": [
    {
     "name": "stdout",
     "output_type": "stream",
     "text": [
      "False\n",
      "False\n"
     ]
    }
   ],
   "source": [
    "x=\"python\"\n",
    "y=\"cannon\"\n",
    "print(\"on\" not in x)\n",
    "print(\"on\" not in y)"
   ]
  },
  {
   "cell_type": "code",
   "execution_count": 35,
   "id": "4b36c48f",
   "metadata": {},
   "outputs": [
    {
     "name": "stdout",
     "output_type": "stream",
     "text": [
      "6\n"
     ]
    }
   ],
   "source": [
    "print(len(\"python\"));\n"
   ]
  },
  {
   "cell_type": "code",
   "execution_count": 36,
   "id": "32e40b32",
   "metadata": {},
   "outputs": [
    {
     "name": "stdout",
     "output_type": "stream",
     "text": [
      "小时数40\n",
      "每小时费率30\n",
      "周薪为 1200.000000\n"
     ]
    }
   ],
   "source": [
    "h=float(input(\"小时数\"))\n",
    "r=float(input(\"每小时费率\"))\n",
    "c=h*r\n",
    "print(\"周薪为 %f\" %c)\n",
    "\n"
   ]
  },
  {
   "cell_type": "code",
   "execution_count": 41,
   "id": "a802af29",
   "metadata": {},
   "outputs": [
    {
     "name": "stdout",
     "output_type": "stream",
     "text": [
      "输入存活年数:100\n",
      "活着的秒数 3153600000.000000\n"
     ]
    }
   ],
   "source": [
    "a=int(input(\"输入存活年数:\"));\n",
    "s=a*365*24*60*60\n",
    "print(\"活着的秒数 %f\" %s)"
   ]
  },
  {
   "cell_type": "code",
   "execution_count": null,
   "id": "fcf373fa",
   "metadata": {},
   "outputs": [],
   "source": []
  }
 ],
 "metadata": {
  "kernelspec": {
   "display_name": "Python 3 (ipykernel)",
   "language": "python",
   "name": "python3"
  },
  "language_info": {
   "codemirror_mode": {
    "name": "ipython",
    "version": 3
   },
   "file_extension": ".py",
   "mimetype": "text/x-python",
   "name": "python",
   "nbconvert_exporter": "python",
   "pygments_lexer": "ipython3",
   "version": "3.8.9"
  }
 },
 "nbformat": 4,
 "nbformat_minor": 5
}
