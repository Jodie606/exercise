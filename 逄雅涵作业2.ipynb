{
 "cells": [
  {
   "cell_type": "code",
   "execution_count": 1,
   "id": "db78d901",
   "metadata": {},
   "outputs": [
    {
     "name": "stdout",
     "output_type": "stream",
     "text": [
      "('cabbage', 'cucumber', 'tomato', 'potato', 'apple', 'banana', 'strawberry')\n"
     ]
    }
   ],
   "source": [
    "vegetables=\"cabbage\",\"cucumber\",\"tomato\",\"potato\"\n",
    "fruits=\"apple\",\"banana\",\"strawberry\"\n",
    "fruit_vegetable=vegetables+fruits\n",
    "print(fruit_vegetable)"
   ]
  },
  {
   "cell_type": "code",
   "execution_count": 2,
   "id": "1782c87d",
   "metadata": {},
   "outputs": [
    {
     "name": "stdout",
     "output_type": "stream",
     "text": [
      "7\n"
     ]
    }
   ],
   "source": [
    "num=len(fruit_vegetable)\n",
    "print(num)"
   ]
  },
  {
   "cell_type": "code",
   "execution_count": 3,
   "id": "8e1e4743",
   "metadata": {},
   "outputs": [
    {
     "name": "stdout",
     "output_type": "stream",
     "text": [
      "('cabbage', 'cucumber', 'tomato', 'potato', 'apple', 'banana', 'strawberry', 'white button murshroom', 'cola')\n"
     ]
    }
   ],
   "source": [
    "food_tuple=fruit_vegetable+('white button murshroom',\"cola\",)\n",
    "print(food_tuple)"
   ]
  },
  {
   "cell_type": "code",
   "execution_count": 4,
   "id": "2cebc9bf",
   "metadata": {},
   "outputs": [
    {
     "name": "stdout",
     "output_type": "stream",
     "text": [
      "white button murshroom cola\n"
     ]
    }
   ],
   "source": [
    "(a,b,c,d,e,f,g,h,i)=food_tuple\n",
    "print(h,i)"
   ]
  },
  {
   "cell_type": "code",
   "execution_count": 5,
   "id": "b6ec80a9",
   "metadata": {},
   "outputs": [],
   "source": [
    "food_list=list(food_tuple)"
   ]
  },
  {
   "cell_type": "code",
   "execution_count": 6,
   "id": "99f3d7dd",
   "metadata": {},
   "outputs": [
    {
     "name": "stdout",
     "output_type": "stream",
     "text": [
      "('apple',)\n"
     ]
    }
   ],
   "source": [
    "num1=food_tuple[4:5]\n",
    "print(num1)"
   ]
  },
  {
   "cell_type": "code",
   "execution_count": 7,
   "id": "216ce8aa",
   "metadata": {},
   "outputs": [
    {
     "name": "stdout",
     "output_type": "stream",
     "text": [
      "['cabbage', 'cucumber', 'tomato']\n",
      "['strawberry', 'white button murshroom', 'cola']\n"
     ]
    }
   ],
   "source": [
    "num2=food_list[:3]\n",
    "print(num2)\n",
    "num3=food_list[-3:]\n",
    "print(num3)"
   ]
  },
  {
   "cell_type": "code",
   "execution_count": 8,
   "id": "c04888a7",
   "metadata": {},
   "outputs": [],
   "source": [
    "del food_tuple"
   ]
  },
  {
   "cell_type": "code",
   "execution_count": 10,
   "id": "70da3df1",
   "metadata": {},
   "outputs": [
    {
     "data": {
      "text/plain": [
       "False"
      ]
     },
     "execution_count": 10,
     "metadata": {},
     "output_type": "execute_result"
    }
   ],
   "source": [
    "asian_countries = 'India','China','Singapore','Thailand','Indonesia'\n",
    "aa='Finland'in asian_countries\n",
    "aa"
   ]
  },
  {
   "cell_type": "code",
   "execution_count": 11,
   "id": "b679d11b",
   "metadata": {},
   "outputs": [
    {
     "data": {
      "text/plain": [
       "True"
      ]
     },
     "execution_count": 11,
     "metadata": {},
     "output_type": "execute_result"
    }
   ],
   "source": [
    "bb='India'in asian_countries\n",
    "bb"
   ]
  },
  {
   "cell_type": "code",
   "execution_count": null,
   "id": "a1095f8c",
   "metadata": {},
   "outputs": [],
   "source": []
  }
 ],
 "metadata": {
  "kernelspec": {
   "display_name": "Python 3 (ipykernel)",
   "language": "python",
   "name": "python3"
  },
  "language_info": {
   "codemirror_mode": {
    "name": "ipython",
    "version": 3
   },
   "file_extension": ".py",
   "mimetype": "text/x-python",
   "name": "python",
   "nbconvert_exporter": "python",
   "pygments_lexer": "ipython3",
   "version": "3.8.9"
  }
 },
 "nbformat": 4,
 "nbformat_minor": 5
}
