{
 "cells": [
  {
   "cell_type": "code",
   "execution_count": 1,
   "id": "78de728f",
   "metadata": {},
   "outputs": [],
   "source": [
    "mix_fruits = {'Guava', 'Pear', 'Mango', 'Apple', 'Fig', 'Orange', 'Banana'}\n",
    "A = {19, 22, 24, 20, 25, 26}\n",
    "B = {19, 22, 20, 25, 26, 24, 28, 27}\n",
    "num = [22, 19, 24, 25, 26, 24, 25, 24]"
   ]
  },
  {
   "cell_type": "code",
   "execution_count": 7,
   "id": "c4e1b5ad",
   "metadata": {},
   "outputs": [
    {
     "name": "stdout",
     "output_type": "stream",
     "text": [
      "10\n",
      "{'Apple', 'Lemon', 'Orange', 'Strawberry', 'Pear', 'Cherry', 'Guava', 'banana', 'Mango', 'Fig', 'Peach', 'Kiwi'}\n",
      "{'Apple', 'Lemon', 'Orange', 'Strawberry', 'Pear', 'Cherry', 'Guava', 'banana', 'Mango', 'Fig', 'Peach', 'Kiwi'}\n",
      "{'Apple', 'Orange', 'Strawberry', 'Pear', 'Cherry', 'Guava', 'banana', 'Mango', 'Fig', 'Peach', 'Kiwi'}\n"
     ]
    }
   ],
   "source": [
    "print(len(\"mix_fruits\"))\n",
    "mix_fruits.add('Kiwi')\n",
    "print(mix_fruits)\n",
    "mix_fruits.update(['Lemon','Cherry','Peach','Strawberry'])\n",
    "print(mix_fruits)\n",
    "mix_fruits.remove('Lemon')\n",
    "print(mix_fruits)\n"
   ]
  },
  {
   "cell_type": "code",
   "execution_count": 11,
   "id": "defde0e0",
   "metadata": {},
   "outputs": [
    {
     "name": "stdout",
     "output_type": "stream",
     "text": [
      "{19, 20, 22, 24, 25, 26, 27, 28}\n",
      "{19, 20, 22, 24, 25, 26}\n"
     ]
    }
   ],
   "source": [
    "print(A | B)\n",
    "print(A & B)\n"
   ]
  },
  {
   "cell_type": "code",
   "execution_count": 12,
   "id": "d678da4e",
   "metadata": {},
   "outputs": [
    {
     "data": {
      "text/plain": [
       "False"
      ]
     },
     "execution_count": 12,
     "metadata": {},
     "output_type": "execute_result"
    }
   ],
   "source": [
    "A.isdisjoint(B)"
   ]
  },
  {
   "cell_type": "code",
   "execution_count": 16,
   "id": "aa003551",
   "metadata": {},
   "outputs": [
    {
     "name": "stdout",
     "output_type": "stream",
     "text": [
      "{27, 28}\n"
     ]
    }
   ],
   "source": [
    "print(A ^ B)"
   ]
  },
  {
   "cell_type": "code",
   "execution_count": 18,
   "id": "279db52e",
   "metadata": {},
   "outputs": [
    {
     "name": "stdout",
     "output_type": "stream",
     "text": [
      "set()\n"
     ]
    }
   ],
   "source": [
    "A.clear()\n",
    "B.clear()\n",
    "print(A)"
   ]
  },
  {
   "cell_type": "code",
   "execution_count": 19,
   "id": "cc7bf0e0",
   "metadata": {},
   "outputs": [
    {
     "name": "stdout",
     "output_type": "stream",
     "text": [
      "set()\n"
     ]
    }
   ],
   "source": [
    "print(B)"
   ]
  },
  {
   "cell_type": "code",
   "execution_count": 21,
   "id": "46b9dae6",
   "metadata": {},
   "outputs": [
    {
     "name": "stdout",
     "output_type": "stream",
     "text": [
      "{19, 22, 24, 25, 26}\n",
      "5\n",
      "8\n"
     ]
    }
   ],
   "source": [
    "my_set=set(num)\n",
    "print(my_set)\n",
    "print(len(my_set))\n",
    "print(len(num))"
   ]
  },
  {
   "cell_type": "code",
   "execution_count": 22,
   "id": "8dd6555b",
   "metadata": {},
   "outputs": [
    {
     "name": "stdout",
     "output_type": "stream",
     "text": [
      "I am a researcher cum teacher and I love to inspire and teach people\n"
     ]
    }
   ],
   "source": [
    "C='I am a researcher cum teacher and I love to inspire and teach people'\n",
    "print(C)"
   ]
  },
  {
   "cell_type": "code",
   "execution_count": null,
   "id": "fb1004db",
   "metadata": {},
   "outputs": [],
   "source": []
  }
 ],
 "metadata": {
  "kernelspec": {
   "display_name": "Python 3 (ipykernel)",
   "language": "python",
   "name": "python3"
  },
  "language_info": {
   "codemirror_mode": {
    "name": "ipython",
    "version": 3
   },
   "file_extension": ".py",
   "mimetype": "text/x-python",
   "name": "python",
   "nbconvert_exporter": "python",
   "pygments_lexer": "ipython3",
   "version": "3.8.9"
  }
 },
 "nbformat": 4,
 "nbformat_minor": 5
}
